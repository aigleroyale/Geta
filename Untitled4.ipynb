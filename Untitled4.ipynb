{
 "cells": [
  {
   "cell_type": "code",
   "execution_count": 360,
   "id": "880446ad",
   "metadata": {},
   "outputs": [],
   "source": [
    "from selenium import webdriver\n",
    "from selenium.webdriver.common.by import By\n",
    "from selenium.webdriver.common.keys import Keys\n",
    "import time\n",
    "import pandas as pd\n",
    "\n",
    "import warnings\n",
    "warnings.filterwarnings(\"ignore\")"
   ]
  },
  {
   "cell_type": "code",
   "execution_count": 12,
   "id": "c22dbf1e",
   "metadata": {},
   "outputs": [],
   "source": [
    "def login(driver):\n",
    "    driver = webdriver.Chrome()\n",
    "    driver.get('https://fr.getaround.com/')\n",
    "    driver.maximize_window()\n",
    "    driver.find_element(by=By.XPATH,  value = '//*[@id=\"pages_homepage_index\"]/div[2]/div[2]/div[3]/button[2]').click()\n",
    "    print(\"Connected\")\n",
    "    return driver\n",
    "\n",
    "def fermer(driver):\n",
    "    driver.close()"
   ]
  },
  {
   "cell_type": "code",
   "execution_count": 236,
   "id": "83248f4b",
   "metadata": {},
   "outputs": [],
   "source": [
    "website = 'https://fr.getaround.com/search?address=Gare+de+Toulouse+Matabiau&address_source=&poi_id=&latitude=43.6114&longitude=1.4539&city_display_name=undefined&start_date=2023-04-14&start_time=07%3A00&end_date=2023-04-14&end_time=08%3A30&country_scope=FR&car_sharing=true&user_interacted_with_car_sharing=false&display_view=list&page={}'.format(1)"
   ]
  },
  {
   "cell_type": "code",
   "execution_count": 380,
   "id": "a966979e",
   "metadata": {},
   "outputs": [],
   "source": [
    "def connected():\n",
    "    options = webdriver.ChromeOptions()\n",
    "    options.add_argument('headless')\n",
    "    driver = webdriver.Chrome(chrome_options=options)\n",
    "    driver.get(\"https://fr.getaround.com/search?address=Gare+de+Toulouse+Matabiau&address_source=&poi_id=&latitude=43.6114&longitude=1.4539&city_display_name=undefined&start_date=2023-04-14&start_time=07%3A00&end_date=2023-04-14&end_time=08%3A30&country_scope=FR&car_sharing=true&user_interacted_with_car_sharing=false&display_view=list&page=1\")\n",
    "    driver.maximize_window()\n",
    "    driver.find_element(by=By.XPATH,  value = '//*[@id=\"search_show\"]/div[2]/div[2]/div[3]/button[2]').click()\n",
    "    return driver\n",
    "\n",
    "def connecteds(i):\n",
    "    options = webdriver.ChromeOptions()\n",
    "    options.add_argument('headless')\n",
    "    website = 'https://fr.getaround.com/search?address=Gare+de+Toulouse+Matabiau&address_source=&poi_id=&latitude=43.6114&longitude=1.4539&city_display_name=undefined&start_date=2023-04-14&start_time=07%3A00&end_date=2023-04-14&end_time=08%3A30&country_scope=FR&car_sharing=true&user_interacted_with_car_sharing=false&display_view=list&page={}'.format(i)\n",
    "    driver = webdriver.Chrome(chrome_options=options)\n",
    "    driver.get(website)\n",
    "    driver.maximize_window()\n",
    "    driver.find_element(by=By.XPATH,  value = '//*[@id=\"search_show\"]/div[2]/div[2]/div[3]/button[2]').click()\n",
    "    return driver\n",
    "\n",
    "def pages(driver):\n",
    "    pages = int(driver.find_element(By.XPATH, '//*[@id=\"js_search_paginator\"]/div').text.split(' ')[3])\n",
    "    return pages\n",
    "\n",
    "def scrape(pages):\n",
    "    for i in range(1, pages+1):\n",
    "        driver = connecteds(i)\n",
    "        print(i)\n",
    "        time.sleep(2)\n",
    "        values = driver.find_element(by=By.XPATH,  value = '//*[@id=\"js_picks\"]/div[5]/div/div[2]/div[3]/div[2]/div[2]/div[1]')\n",
    "        list_d = values.text.split('h\\n')\n",
    "        g_liste.append(list_d)\n",
    "    df = pd.DataFrame(sum(g_liste, []))\n",
    "    driver.close()\n",
    "    return df\n",
    "\n",
    "def apure(df):\n",
    "    df[['First Name', 'Last Name', 'Firsts Name', 'Lasts Name', 'First Names', 'Last Names']] = df[0].str.split(\"\\n\", expand = True)\n",
    "    df = df[['First Name', 'Last Name', 'Firsts Name', 'Lasts Name', 'First Names', 'Last Names']]\n",
    "    df[['Lasts Name', 'sds']] = df['Lasts Name'].str.split(\" \", expand = True)\n",
    "    df['First Names'] = df['First Names'].str.replace(\"€\", \"\")\n",
    "    df['sds'] = df['sds'].str.replace(\"(\",\" \").str.replace(\")\",\" \")\n",
    "    return df\n",
    "    \n",
    "\n"
   ]
  },
  {
   "cell_type": "code",
   "execution_count": 381,
   "id": "c809a01b",
   "metadata": {},
   "outputs": [],
   "source": [
    "driver = connected()"
   ]
  },
  {
   "cell_type": "code",
   "execution_count": 382,
   "id": "df232326",
   "metadata": {},
   "outputs": [],
   "source": [
    "pages = pages(driver)"
   ]
  },
  {
   "cell_type": "code",
   "execution_count": 383,
   "id": "326c0b0c",
   "metadata": {},
   "outputs": [
    {
     "data": {
      "text/plain": [
       "4"
      ]
     },
     "execution_count": 383,
     "metadata": {},
     "output_type": "execute_result"
    }
   ],
   "source": [
    "pages"
   ]
  },
  {
   "cell_type": "code",
   "execution_count": 385,
   "id": "358b7bb4",
   "metadata": {},
   "outputs": [
    {
     "name": "stdout",
     "output_type": "stream",
     "text": [
      "1\n",
      "2\n",
      "3\n",
      "4\n"
     ]
    }
   ],
   "source": [
    "df = scrape(pages)"
   ]
  },
  {
   "cell_type": "code",
   "execution_count": null,
   "id": "8285deda",
   "metadata": {},
   "outputs": [],
   "source": [
    "a = '//*[@id=\"js_picks\"]/div[5]/div/div[2]/div[3]/div[2]/div[2]/div[2]/div[{}]'.format(1)\n",
    "exemple = driver.find_element(By.XPATH, str(a))\n",
    "exemple.click()\n",
    "\n",
    "find1 = exemple.find_element(By.XPATH, '//*[@id=\"js_picks\"]/div[7]/div[2]/div[2]/div[2]/div[2]/div/div/div/div')\n",
    "find2 = exemple.find_element(By.XPATH, '//*[@id=\"js_picks\"]/div[7]/div[2]/div[2]/div[2]/div[1]/div[1]/div[3]/div[1]/div[1]')\n",
    "find3 = exemple.find_element(By.XPATH, '//*[@id=\"js_picks\"]/div[7]/div[2]/div[2]/div[2]/div[1]/div[10]/div[1]/div/div')\n",
    "find4 = exemple.find_element(By.XPATH, '//*[@id=\"js_picks\"]/div[7]/div[2]/div[2]/div[2]/div[1]/div[10]/div[2]/div/div')\n",
    "find5 = exemple.find_element(By.XPATH, '//*[@id=\"js_picks\"]/div[7]/div[2]/div[2]/div[2]/div[1]/div[12]/div/div/div[2]')"
   ]
  }
 ],
 "metadata": {
  "kernelspec": {
   "display_name": "Python 3 (ipykernel)",
   "language": "python",
   "name": "python3"
  },
  "language_info": {
   "codemirror_mode": {
    "name": "ipython",
    "version": 3
   },
   "file_extension": ".py",
   "mimetype": "text/x-python",
   "name": "python",
   "nbconvert_exporter": "python",
   "pygments_lexer": "ipython3",
   "version": "3.9.13"
  }
 },
 "nbformat": 4,
 "nbformat_minor": 5
}
